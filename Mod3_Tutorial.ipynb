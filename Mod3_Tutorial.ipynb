{
 "cells": [
  {
   "cell_type": "code",
   "execution_count": 9,
   "id": "e3817495-1688-4c8b-b9fc-c090a618d298",
   "metadata": {},
   "outputs": [
    {
     "name": "stdout",
     "output_type": "stream",
     "text": [
      "[0, 1, 2, 0, 1, 2]\n"
     ]
    }
   ],
   "source": [
    "#{ \n",
    " # Driver Code Starts\n",
    "\n",
    "# } Driver Code Ends\n",
    "class Solution:\n",
    "    # Function to sort an array of 0s, 1s, and 2s\n",
    "    def sort012(self, arr):\n",
    "        # code here\n",
    "        n=len(arr)\n",
    "        low= 0\n",
    "        hi= n-1\n",
    "        mid= 0\n",
    "        \n",
    "        while mid<= hi:\n",
    "            if arr[mid] ==0:\n",
    "                arr[low], arr[mid] = arr[mid] , arr[low]\n",
    "                low = low +1 \n",
    "                mid = mid +1\n",
    "            elif arr[mid] == 1:\n",
    "                mid = mid +1\n",
    "            else:\n",
    "                arr[mid], arr[hi] = arr[hi], arr[mid]\n",
    "                hi = hi-1\n",
    "        return arr\n",
    "\n",
    "        \n",
    "\n",
    "#{ \n",
    " # Driver Code Starts.\n",
    "def main():\n",
    "    t = int(input().strip())  # Read the number of test cases\n",
    "    ob = Solution()\n",
    "    while t > 0:\n",
    "        t -= 1\n",
    "        arr = list(map(int,\n",
    "                       input().strip().split())\n",
    "                   )  # Read the array as space-separated integers\n",
    "        ob.sort012(arr)  # Sort the array\n",
    "\n",
    "        print(' '.join(map(str, arr)))  # Print the sorted array\n",
    "        print(\"~\")\n",
    "if __name__ == \"__main__\":\n",
    "    main()\n",
    "\n",
    "# } Driver Code Ends"
   ]
  },
  {
   "cell_type": "code",
   "execution_count": null,
   "id": "78d4489f-b9b6-45bc-91d8-989c25b220db",
   "metadata": {},
   "outputs": [],
   "source": [
    "#User function template for Python\n",
    "\n",
    "class Solution:\n",
    "    def binarysearch(self, arr, k, l, r):\n",
    "        # Code Here\n",
    "        if r >= l:\n",
    "            mid = l+(r-l)\n",
    "        #checking to see if k is in the middle or the right or left of the center\n",
    "            if arr[mid] == k:\n",
    "                return mid\n",
    "            elif arr[mid] > k:\n",
    "                return binarySearch(arr, k, l, mid-1)\n",
    "            else: \n",
    "                return binarySearch(arr, mid +1, r, k)\n",
    "            \n",
    "        else:\n",
    "            return -1\n",
    "\n",
    "\n",
    "#{ \n",
    " # Driver Code Starts\n",
    "#Initial template for Python\n",
    "\n",
    "if __name__ == \"__main__\":\n",
    "    t = int(input())\n",
    "    for _ in range(t):\n",
    "        k = int(input())\n",
    "        arr = list(map(int, input().split()))\n",
    "        ob = Solution()\n",
    "        res = ob.binarysearch(arr, k)\n",
    "        print(res)\n",
    "        print(\"~\")\n",
    "\n",
    "# } Driver Code Ends"
   ]
  }
 ],
 "metadata": {
  "kernelspec": {
   "display_name": "Python 3 (ipykernel)",
   "language": "python",
   "name": "python3"
  },
  "language_info": {
   "codemirror_mode": {
    "name": "ipython",
    "version": 3
   },
   "file_extension": ".py",
   "mimetype": "text/x-python",
   "name": "python",
   "nbconvert_exporter": "python",
   "pygments_lexer": "ipython3",
   "version": "3.12.4"
  }
 },
 "nbformat": 4,
 "nbformat_minor": 5
}
